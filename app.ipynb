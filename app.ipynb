git init
git remote add origin https://github.com/glennmacapinlac/Finalproject
git add .
git commit -m "initial commit"
git push origin master